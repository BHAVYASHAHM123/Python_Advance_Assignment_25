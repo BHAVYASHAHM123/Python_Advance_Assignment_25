{
  "cells": [
    {
      "cell_type": "markdown",
      "id": "fa9273c4",
      "metadata": {
        "id": "fa9273c4"
      },
      "source": [
        "Q1). What is the distinction between a numpy array and a pandas data frame? Is there a way to convert between the two if there is?"
      ]
    },
    {
      "cell_type": "code",
      "execution_count": 1,
      "id": "e8ecdf8f",
      "metadata": {
        "colab": {
          "base_uri": "https://localhost:8080/"
        },
        "id": "e8ecdf8f",
        "outputId": "3fdf68df-7e2c-4f1e-8901-e960bf8a820e"
      },
      "outputs": [
        {
          "output_type": "execute_result",
          "data": {
            "text/plain": [
              "array([[0, 1, 2, 3, 4],\n",
              "       [5, 6, 7, 8, 9]])"
            ]
          },
          "metadata": {},
          "execution_count": 1
        }
      ],
      "source": [
        "# Ans : Numpy array: This is in the form of matrix structure which have rows and columns. It generally performs python \n",
        "#       mathematical operation which is not genrally easy manually to perfomr in coding case. It may be of any \n",
        "#       dimensions like 1-d, 2-d, 3-d, 4-d, etc depend upon the use to requirement. Unlike dataframe, numpy array are \n",
        "#       not in a tabular form which ahve records and have fields instead it is in the form of matrices. It can have\n",
        "#       single row and single column as well but dataframe poses more than one column\n",
        "#       DataFrame: This is a kind of tabular structure format which are having more than one column. Unlike numpy \n",
        "#       array which can have more single as well as many number of columns, but dataframe have more than one column.\n",
        "#       Dataframe can have any number of dimensons but it should be more than one. We can use numpy array operation \n",
        "#       in dataframe and can also convert the numpy array into dataframe.\n",
        "#       We can convert between the two in following manner:\n",
        "import pandas as pd\n",
        "import numpy as np\n",
        "array=np.arange(10).reshape(2,5)\n",
        "array"
      ]
    },
    {
      "cell_type": "code",
      "execution_count": 2,
      "id": "3722b4e3",
      "metadata": {
        "colab": {
          "base_uri": "https://localhost:8080/",
          "height": 112
        },
        "id": "3722b4e3",
        "outputId": "941d2e5d-0253-4385-bdb3-fee10dd60196"
      },
      "outputs": [
        {
          "output_type": "execute_result",
          "data": {
            "text/plain": [
              "   0  1  2  3  4\n",
              "0  0  1  2  3  4\n",
              "1  5  6  7  8  9"
            ],
            "text/html": [
              "\n",
              "  <div id=\"df-09a9a047-0648-4c47-9969-52d4d91b78fe\">\n",
              "    <div class=\"colab-df-container\">\n",
              "      <div>\n",
              "<style scoped>\n",
              "    .dataframe tbody tr th:only-of-type {\n",
              "        vertical-align: middle;\n",
              "    }\n",
              "\n",
              "    .dataframe tbody tr th {\n",
              "        vertical-align: top;\n",
              "    }\n",
              "\n",
              "    .dataframe thead th {\n",
              "        text-align: right;\n",
              "    }\n",
              "</style>\n",
              "<table border=\"1\" class=\"dataframe\">\n",
              "  <thead>\n",
              "    <tr style=\"text-align: right;\">\n",
              "      <th></th>\n",
              "      <th>0</th>\n",
              "      <th>1</th>\n",
              "      <th>2</th>\n",
              "      <th>3</th>\n",
              "      <th>4</th>\n",
              "    </tr>\n",
              "  </thead>\n",
              "  <tbody>\n",
              "    <tr>\n",
              "      <th>0</th>\n",
              "      <td>0</td>\n",
              "      <td>1</td>\n",
              "      <td>2</td>\n",
              "      <td>3</td>\n",
              "      <td>4</td>\n",
              "    </tr>\n",
              "    <tr>\n",
              "      <th>1</th>\n",
              "      <td>5</td>\n",
              "      <td>6</td>\n",
              "      <td>7</td>\n",
              "      <td>8</td>\n",
              "      <td>9</td>\n",
              "    </tr>\n",
              "  </tbody>\n",
              "</table>\n",
              "</div>\n",
              "      <button class=\"colab-df-convert\" onclick=\"convertToInteractive('df-09a9a047-0648-4c47-9969-52d4d91b78fe')\"\n",
              "              title=\"Convert this dataframe to an interactive table.\"\n",
              "              style=\"display:none;\">\n",
              "        \n",
              "  <svg xmlns=\"http://www.w3.org/2000/svg\" height=\"24px\"viewBox=\"0 0 24 24\"\n",
              "       width=\"24px\">\n",
              "    <path d=\"M0 0h24v24H0V0z\" fill=\"none\"/>\n",
              "    <path d=\"M18.56 5.44l.94 2.06.94-2.06 2.06-.94-2.06-.94-.94-2.06-.94 2.06-2.06.94zm-11 1L8.5 8.5l.94-2.06 2.06-.94-2.06-.94L8.5 2.5l-.94 2.06-2.06.94zm10 10l.94 2.06.94-2.06 2.06-.94-2.06-.94-.94-2.06-.94 2.06-2.06.94z\"/><path d=\"M17.41 7.96l-1.37-1.37c-.4-.4-.92-.59-1.43-.59-.52 0-1.04.2-1.43.59L10.3 9.45l-7.72 7.72c-.78.78-.78 2.05 0 2.83L4 21.41c.39.39.9.59 1.41.59.51 0 1.02-.2 1.41-.59l7.78-7.78 2.81-2.81c.8-.78.8-2.07 0-2.86zM5.41 20L4 18.59l7.72-7.72 1.47 1.35L5.41 20z\"/>\n",
              "  </svg>\n",
              "      </button>\n",
              "      \n",
              "  <style>\n",
              "    .colab-df-container {\n",
              "      display:flex;\n",
              "      flex-wrap:wrap;\n",
              "      gap: 12px;\n",
              "    }\n",
              "\n",
              "    .colab-df-convert {\n",
              "      background-color: #E8F0FE;\n",
              "      border: none;\n",
              "      border-radius: 50%;\n",
              "      cursor: pointer;\n",
              "      display: none;\n",
              "      fill: #1967D2;\n",
              "      height: 32px;\n",
              "      padding: 0 0 0 0;\n",
              "      width: 32px;\n",
              "    }\n",
              "\n",
              "    .colab-df-convert:hover {\n",
              "      background-color: #E2EBFA;\n",
              "      box-shadow: 0px 1px 2px rgba(60, 64, 67, 0.3), 0px 1px 3px 1px rgba(60, 64, 67, 0.15);\n",
              "      fill: #174EA6;\n",
              "    }\n",
              "\n",
              "    [theme=dark] .colab-df-convert {\n",
              "      background-color: #3B4455;\n",
              "      fill: #D2E3FC;\n",
              "    }\n",
              "\n",
              "    [theme=dark] .colab-df-convert:hover {\n",
              "      background-color: #434B5C;\n",
              "      box-shadow: 0px 1px 3px 1px rgba(0, 0, 0, 0.15);\n",
              "      filter: drop-shadow(0px 1px 2px rgba(0, 0, 0, 0.3));\n",
              "      fill: #FFFFFF;\n",
              "    }\n",
              "  </style>\n",
              "\n",
              "      <script>\n",
              "        const buttonEl =\n",
              "          document.querySelector('#df-09a9a047-0648-4c47-9969-52d4d91b78fe button.colab-df-convert');\n",
              "        buttonEl.style.display =\n",
              "          google.colab.kernel.accessAllowed ? 'block' : 'none';\n",
              "\n",
              "        async function convertToInteractive(key) {\n",
              "          const element = document.querySelector('#df-09a9a047-0648-4c47-9969-52d4d91b78fe');\n",
              "          const dataTable =\n",
              "            await google.colab.kernel.invokeFunction('convertToInteractive',\n",
              "                                                     [key], {});\n",
              "          if (!dataTable) return;\n",
              "\n",
              "          const docLinkHtml = 'Like what you see? Visit the ' +\n",
              "            '<a target=\"_blank\" href=https://colab.research.google.com/notebooks/data_table.ipynb>data table notebook</a>'\n",
              "            + ' to learn more about interactive tables.';\n",
              "          element.innerHTML = '';\n",
              "          dataTable['output_type'] = 'display_data';\n",
              "          await google.colab.output.renderOutput(dataTable, element);\n",
              "          const docLink = document.createElement('div');\n",
              "          docLink.innerHTML = docLinkHtml;\n",
              "          element.appendChild(docLink);\n",
              "        }\n",
              "      </script>\n",
              "    </div>\n",
              "  </div>\n",
              "  "
            ]
          },
          "metadata": {},
          "execution_count": 2
        }
      ],
      "source": [
        "df=pd.DataFrame(array)\n",
        "df"
      ]
    },
    {
      "cell_type": "code",
      "execution_count": 3,
      "id": "3998951d",
      "metadata": {
        "colab": {
          "base_uri": "https://localhost:8080/"
        },
        "id": "3998951d",
        "outputId": "7a81e571-2dab-4265-9a99-d09bb566e964"
      },
      "outputs": [
        {
          "output_type": "execute_result",
          "data": {
            "text/plain": [
              "array([[0, 1, 2, 3, 4],\n",
              "       [5, 6, 7, 8, 9]])"
            ]
          },
          "metadata": {},
          "execution_count": 3
        }
      ],
      "source": [
        "df.to_numpy()"
      ]
    },
    {
      "cell_type": "markdown",
      "id": "68a4f1e7",
      "metadata": {
        "id": "68a4f1e7"
      },
      "source": [
        "Q2. What can go wrong when an user enters in a stock-ticker symbol, and how do you handle it?"
      ]
    },
    {
      "cell_type": "markdown",
      "id": "733d3325",
      "metadata": {
        "id": "733d3325"
      },
      "source": [
        "Q3). Identify some of the plotting techniques that are used to produce a stock-market chart."
      ]
    },
    {
      "cell_type": "code",
      "execution_count": 4,
      "id": "9415eaf0",
      "metadata": {
        "id": "9415eaf0"
      },
      "outputs": [],
      "source": [
        "# Ans : LINE CHART.POINT AND FIGURE CHART, CANDLESTICK CHART, BAR CHART."
      ]
    },
    {
      "cell_type": "markdown",
      "id": "73276e17",
      "metadata": {
        "id": "73276e17"
      },
      "source": [
        "Q4). Why is it essential to print a legend on a stock market chart?"
      ]
    },
    {
      "cell_type": "code",
      "execution_count": 5,
      "id": "34b6722c",
      "metadata": {
        "id": "34b6722c"
      },
      "outputs": [],
      "source": [
        "# Ans : Legends adds a beauty to visualize the trend of data w.r.t. different features. It creates the different \n",
        "#       trend in different colors indicating that which is belong to which trend is belong to which feature."
      ]
    },
    {
      "cell_type": "markdown",
      "id": "a1ec1322",
      "metadata": {
        "id": "a1ec1322"
      },
      "source": [
        "Q5). What is the best way to limit the length of a pandas data frame to less than a year?"
      ]
    },
    {
      "cell_type": "code",
      "execution_count": 6,
      "id": "644c208d",
      "metadata": {
        "id": "644c208d"
      },
      "outputs": [],
      "source": [
        "# Ans : We can use start and end parameters for that. In start we write the date from where we are starting and at \n",
        "#       the end we write the end date. SO within this span we can restric the duration. Also we can use the parameters \n",
        "#       like periods for how much times we need the duration and we can also use the frequency parameter."
      ]
    },
    {
      "cell_type": "markdown",
      "id": "bdbf8a24",
      "metadata": {
        "id": "bdbf8a24"
      },
      "source": [
        "Q6). What is the definition of a 180-day moving average?"
      ]
    },
    {
      "cell_type": "code",
      "execution_count": 7,
      "id": "fded1fa7",
      "metadata": {
        "id": "fded1fa7"
      },
      "outputs": [],
      "source": [
        "# Ans : Moving Averages help to filter out market noise and smooth out fluctuations in price. In statistics, a moving\n",
        "#       average is a calculation used to analyze data points by creating a series of averages of different subsets of \n",
        "#       the full data set. 180-day moving average means A simple moving average (SMA) is a arithmetic mean of a given \n",
        "#       set of prices over the 180 days in the past"
      ]
    },
    {
      "cell_type": "code",
      "execution_count": null,
      "id": "dd4027c8",
      "metadata": {
        "id": "dd4027c8"
      },
      "outputs": [],
      "source": [
        ""
      ]
    }
  ],
  "metadata": {
    "kernelspec": {
      "display_name": "Python 3 (ipykernel)",
      "language": "python",
      "name": "python3"
    },
    "language_info": {
      "codemirror_mode": {
        "name": "ipython",
        "version": 3
      },
      "file_extension": ".py",
      "mimetype": "text/x-python",
      "name": "python",
      "nbconvert_exporter": "python",
      "pygments_lexer": "ipython3",
      "version": "3.9.7"
    },
    "colab": {
      "name": "Python_Advance_Assignment_25.ipynb",
      "provenance": []
    }
  },
  "nbformat": 4,
  "nbformat_minor": 5
}